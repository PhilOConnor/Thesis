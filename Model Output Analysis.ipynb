{
 "cells": [
  {
   "cell_type": "code",
   "execution_count": 1,
   "id": "5fd3c984-ef81-4e60-a2ea-d3fb3a38b4a3",
   "metadata": {},
   "outputs": [],
   "source": [
    "import pandas as pd\n",
    "import matplotlib.pyplot as plt\n",
    "import os\n",
    "import tensorflow as tf"
   ]
  },
  {
   "cell_type": "code",
   "execution_count": 2,
   "id": "a4de8f2a-317b-4c8e-a554-cfd4a75e02f9",
   "metadata": {},
   "outputs": [],
   "source": [
    "data_path = '../Data/full dataset'\n",
    "data_path_1000 = '../Data/Dataset 1000'\n",
    "data_path_200 = '../Data/Dataset 200'\n",
    "data_path_800 = '../Data/Dataset 800'\n",
    "val_data_path = '../Data/validation dataset'\n",
    "figures_output_path = '../Outputs/figures'\n",
    "csv_outputs ='../Outputs/csv'\n",
    "models_path ='../Models/'"
   ]
  },
  {
   "cell_type": "code",
   "execution_count": 5,
   "id": "f5cac6dd-bca8-4e51-b281-afdf126ff2d4",
   "metadata": {},
   "outputs": [],
   "source": [
    "model = tf.keras.models.load_model(os.path.join(models_path, 'Resnet18.h5'),compile=False)"
   ]
  },
  {
   "cell_type": "code",
   "execution_count": 7,
   "id": "221fe830-6257-4fd9-a467-789f88853438",
   "metadata": {},
   "outputs": [],
   "source": [
    "model.history"
   ]
  },
  {
   "cell_type": "code",
   "execution_count": 3,
   "id": "a7c3d9fa-ac21-445c-b5b4-7dc0369c7fc9",
   "metadata": {},
   "outputs": [
    {
     "data": {
      "text/plain": [
       "[]"
      ]
     },
     "execution_count": 3,
     "metadata": {},
     "output_type": "execute_result"
    }
   ],
   "source": [
    "os.listdir(csv_outputs)"
   ]
  },
  {
   "cell_type": "code",
   "execution_count": 4,
   "id": "017a94c9-6e9c-4a38-9d24-992c46746460",
   "metadata": {},
   "outputs": [],
   "source": [
    "df = pd.DataFrame([1,2,3,])"
   ]
  },
  {
   "cell_type": "code",
   "execution_count": 5,
   "id": "c36e6340-5614-4b66-b510-f56809dd92d1",
   "metadata": {},
   "outputs": [
    {
     "data": {
      "text/html": [
       "<div>\n",
       "<style scoped>\n",
       "    .dataframe tbody tr th:only-of-type {\n",
       "        vertical-align: middle;\n",
       "    }\n",
       "\n",
       "    .dataframe tbody tr th {\n",
       "        vertical-align: top;\n",
       "    }\n",
       "\n",
       "    .dataframe thead th {\n",
       "        text-align: right;\n",
       "    }\n",
       "</style>\n",
       "<table border=\"1\" class=\"dataframe\">\n",
       "  <thead>\n",
       "    <tr style=\"text-align: right;\">\n",
       "      <th></th>\n",
       "      <th>0</th>\n",
       "    </tr>\n",
       "  </thead>\n",
       "  <tbody>\n",
       "    <tr>\n",
       "      <th>0</th>\n",
       "      <td>1</td>\n",
       "    </tr>\n",
       "    <tr>\n",
       "      <th>1</th>\n",
       "      <td>2</td>\n",
       "    </tr>\n",
       "    <tr>\n",
       "      <th>2</th>\n",
       "      <td>3</td>\n",
       "    </tr>\n",
       "  </tbody>\n",
       "</table>\n",
       "</div>"
      ],
      "text/plain": [
       "   0\n",
       "0  1\n",
       "1  2\n",
       "2  3"
      ]
     },
     "execution_count": 5,
     "metadata": {},
     "output_type": "execute_result"
    }
   ],
   "source": [
    "df"
   ]
  },
  {
   "cell_type": "code",
   "execution_count": 6,
   "id": "8155f102-29fe-4945-b992-218498599170",
   "metadata": {},
   "outputs": [],
   "source": [
    "df.index = df.index+5"
   ]
  },
  {
   "cell_type": "code",
   "execution_count": 7,
   "id": "0f4e945c-424f-48e6-91a6-71bee4236d94",
   "metadata": {},
   "outputs": [
    {
     "data": {
      "text/html": [
       "<div>\n",
       "<style scoped>\n",
       "    .dataframe tbody tr th:only-of-type {\n",
       "        vertical-align: middle;\n",
       "    }\n",
       "\n",
       "    .dataframe tbody tr th {\n",
       "        vertical-align: top;\n",
       "    }\n",
       "\n",
       "    .dataframe thead th {\n",
       "        text-align: right;\n",
       "    }\n",
       "</style>\n",
       "<table border=\"1\" class=\"dataframe\">\n",
       "  <thead>\n",
       "    <tr style=\"text-align: right;\">\n",
       "      <th></th>\n",
       "      <th>0</th>\n",
       "    </tr>\n",
       "  </thead>\n",
       "  <tbody>\n",
       "    <tr>\n",
       "      <th>5</th>\n",
       "      <td>1</td>\n",
       "    </tr>\n",
       "    <tr>\n",
       "      <th>6</th>\n",
       "      <td>2</td>\n",
       "    </tr>\n",
       "    <tr>\n",
       "      <th>7</th>\n",
       "      <td>3</td>\n",
       "    </tr>\n",
       "  </tbody>\n",
       "</table>\n",
       "</div>"
      ],
      "text/plain": [
       "   0\n",
       "5  1\n",
       "6  2\n",
       "7  3"
      ]
     },
     "execution_count": 7,
     "metadata": {},
     "output_type": "execute_result"
    }
   ],
   "source": [
    "df"
   ]
  },
  {
   "cell_type": "code",
   "execution_count": null,
   "id": "3b7a21a4-861e-47e2-9ed4-faafdf17b30c",
   "metadata": {},
   "outputs": [],
   "source": []
  }
 ],
 "metadata": {
  "kernelspec": {
   "display_name": "thesis_tf",
   "language": "python",
   "name": "thesis_tf"
  },
  "language_info": {
   "codemirror_mode": {
    "name": "ipython",
    "version": 3
   },
   "file_extension": ".py",
   "mimetype": "text/x-python",
   "name": "python",
   "nbconvert_exporter": "python",
   "pygments_lexer": "ipython3",
   "version": "3.9.12"
  }
 },
 "nbformat": 4,
 "nbformat_minor": 5
}
