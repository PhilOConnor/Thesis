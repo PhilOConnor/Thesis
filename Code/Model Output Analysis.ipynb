{
 "cells": [
  {
   "cell_type": "code",
   "execution_count": 118,
   "id": "5fd3c984-ef81-4e60-a2ea-d3fb3a38b4a3",
   "metadata": {},
   "outputs": [],
   "source": [
    "import pandas as pd\n",
    "import matplotlib.pyplot as plt\n",
    "import os"
   ]
  },
  {
   "cell_type": "code",
   "execution_count": 137,
   "id": "82a1bd59-af06-446c-8d87-ea43ae13216c",
   "metadata": {},
   "outputs": [],
   "source": [
    "col_headers = ['Train Loss', 'Train Acc', 'Val Loss', 'Val Acc']\n",
    "val_index = list(range(0, 101, 5))\n",
    "train_index = list(range(0,101,1))\n",
    "\n",
    "models = ['ResNet18', 'ResNet50', 'VGG16', 'InceptionV3', 'EfficientNet']"
   ]
  },
  {
   "cell_type": "code",
   "execution_count": 124,
   "id": "f5880dbc-82c8-4c11-84de-c3cb101ba39d",
   "metadata": {},
   "outputs": [],
   "source": [
    "resnet50_200_dot_1 = pd.read_excel('../Outputs/csv/Dataset 200/LR_0.1/ResNet50_200_stats.xlsx')\n",
    "\n",
    "resnet50_200_dot_1 = resnet50_200_dot_1.T\n",
    "resnet50_200_dot_1.columns = col_headers\n",
    "resnet50_200_dot_1.index = train_index\n",
    "\n",
    "resnet50_200_val = resnet50_200_dot_1[['Val Loss','Val Acc']]\n",
    "\n",
    "resnet50_200_val.dropna(inplace=True)\n",
    "#resnet50_200_val.loc[:,'val_index']=val_index\n",
    "\n",
    "resnet50_200_val.index = val_index"
   ]
  },
  {
   "cell_type": "code",
   "execution_count": 136,
   "id": "4c4035ca-93a1-4932-a7db-90335f731f65",
   "metadata": {},
   "outputs": [
    {
     "data": {
      "image/png": "[encoded data removed]",
      "text/plain": [
       "<Figure size 432x288 with 1 Axes>"
      ]
     },
     "metadata": {
      "needs_background": "light"
     },
     "output_type": "display_data"
    }
   ],
   "source": [
    "fig, ax = plt.subplots()\n",
    "\n",
    "ax.plot(resnet50_200_dot_1.index, resnet50_200_dot_1['Train Acc'], label='Train' )\n",
    "ax.plot(resnet50_200_val.index, resnet50_200_val['Val Acc'], label='Val')\n",
    "\n",
    "\n",
    "ax.set(xlabel='Epoch', ylabel='Accuracy',\n",
    "       title='Resnet 50 - 200 images per class')\n",
    "ax.grid()\n",
    "leg = plt.legend(loc='lower right')\n",
    "#fig.savefig(\"test.png\")\n",
    "plt.show()"
   ]
  },
  {
   "cell_type": "code",
   "execution_count": 115,
   "id": "549f6241-9e63-4c56-94e2-9615b6a6eb00",
   "metadata": {},
   "outputs": [
    {
     "data": {
      "text/plain": [
       "['Unnamed: 0',\n",
       " 0,\n",
       " 1,\n",
       " 2,\n",
       " 3,\n",
       " 4,\n",
       " 5,\n",
       " 6,\n",
       " 7,\n",
       " 8,\n",
       " 9,\n",
       " 10,\n",
       " 11,\n",
       " 12,\n",
       " 13,\n",
       " 14,\n",
       " 15,\n",
       " 16,\n",
       " 17,\n",
       " 18,\n",
       " 19,\n",
       " 20,\n",
       " 21,\n",
       " 22,\n",
       " 23,\n",
       " 24,\n",
       " 25,\n",
       " 26,\n",
       " 27,\n",
       " 28,\n",
       " 29,\n",
       " 30,\n",
       " 31,\n",
       " 32,\n",
       " 33,\n",
       " 34,\n",
       " 35,\n",
       " 36,\n",
       " 37,\n",
       " 38,\n",
       " 39,\n",
       " 40,\n",
       " 41,\n",
       " 42,\n",
       " 43,\n",
       " 44,\n",
       " 45,\n",
       " 46,\n",
       " 47,\n",
       " 48,\n",
       " 49,\n",
       " 50,\n",
       " 51,\n",
       " 52,\n",
       " 53,\n",
       " 54,\n",
       " 55,\n",
       " 56,\n",
       " 57,\n",
       " 58,\n",
       " 59,\n",
       " 60,\n",
       " 61,\n",
       " 62,\n",
       " 63,\n",
       " 64,\n",
       " 65,\n",
       " 66,\n",
       " 67,\n",
       " 68,\n",
       " 69,\n",
       " 70,\n",
       " 71,\n",
       " 72,\n",
       " 73,\n",
       " 74,\n",
       " 75,\n",
       " 76,\n",
       " 77,\n",
       " 78,\n",
       " 79,\n",
       " 80,\n",
       " 81,\n",
       " 82,\n",
       " 83,\n",
       " 84,\n",
       " 85,\n",
       " 86,\n",
       " 87,\n",
       " 88,\n",
       " 89,\n",
       " 90,\n",
       " 91,\n",
       " 92,\n",
       " 93,\n",
       " 94,\n",
       " 95,\n",
       " 96,\n",
       " 97,\n",
       " 98,\n",
       " 99]"
      ]
     },
     "execution_count": 115,
     "metadata": {},
     "output_type": "execute_result"
    }
   ],
   "source": [
    "resnet50_200_dot_1.index.to_list()"
   ]
  },
  {
   "cell_type": "code",
   "execution_count": 108,
   "id": "4e3a7dec-4fc4-4342-9c54-b3aeedf57fda",
   "metadata": {},
   "outputs": [
    {
     "ename": "SyntaxError",
     "evalue": "invalid syntax (3312948729.py, line 1)",
     "output_type": "error",
     "traceback": [
      "\u001b[0;36m  Input \u001b[0;32mIn [108]\u001b[0;36m\u001b[0m\n\u001b[0;31m    .index\u001b[0m\n\u001b[0m    ^\u001b[0m\n\u001b[0;31mSyntaxError\u001b[0m\u001b[0;31m:\u001b[0m invalid syntax\n"
     ]
    }
   ],
   "source": [
    ".index"
   ]
  },
  {
   "cell_type": "code",
   "execution_count": null,
   "id": "a4de8f2a-317b-4c8e-a554-cfd4a75e02f9",
   "metadata": {},
   "outputs": [],
   "source": []
  }
 ],
 "metadata": {
  "kernelspec": {
   "display_name": "Python 3 (ipykernel)",
   "language": "python",
   "name": "python3"
  },
  "language_info": {
   "codemirror_mode": {
    "name": "ipython",
    "version": 3
   },
   "file_extension": ".py",
   "mimetype": "text/x-python",
   "name": "python",
   "nbconvert_exporter": "python",
   "pygments_lexer": "ipython3",
   "version": "3.8.10"
  }
 },
 "nbformat": 4,
 "nbformat_minor": 5
}
